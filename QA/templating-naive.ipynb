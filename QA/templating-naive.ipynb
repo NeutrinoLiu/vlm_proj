{
 "cells": [
  {
   "cell_type": "code",
   "execution_count": null,
   "id": "5fcdb7fe",
   "metadata": {},
   "outputs": [],
   "source": [
    "import json\n",
    "import os\n",
    "\n",
    "# function pool here\n",
    "from templates_lib.filter import *\n",
    "from templates_lib.func import *\n",
    "from templates_lib.QA import QADataset"
   ]
  },
  {
   "cell_type": "markdown",
   "id": "9ea6ba56",
   "metadata": {},
   "source": [
    "### Static::Measurement::object_distance"
   ]
  },
  {
   "cell_type": "code",
   "execution_count": null,
   "id": "dd1c2a50",
   "metadata": {},
   "outputs": [],
   "source": [
    "DS_ROOT = \"./structured-data\"\n",
    "OUTPUT_DIR = \"pairs\"\n",
    "os.makedirs(OUTPUT_DIR, exist_ok=True)\n",
    "OUTPUT_QWEN = f\"{OUTPUT_DIR}/QA_pairs_qwen.json\"\n",
    "OUTPUT_JSON = f\"{OUTPUT_DIR}/QA_pairs.json\"\n",
    "TEST_SPLIT = 0.2\n",
    "\n",
    "myCap = Captioner(\"./captions_old.yaml\")\n",
    "ds = QADataset(DS_ROOT, myCap)\n",
    "\n"
   ]
  },
  {
   "cell_type": "code",
   "execution_count": null,
   "id": "970cc65e",
   "metadata": {},
   "outputs": [],
   "source": [
    "from templates_lib.task import MultiTaskSet\n",
    "from templates_lib.task.distance_tasks import DistTasks\n",
    "from templates_lib.task.movement_tasks import MovementTasks\n",
    "\n",
    "tasks_cfg = {\n",
    "    \"roi_frame_only\": True,\n",
    "}\n",
    "\n",
    "myfilter = filter_all(\n",
    "    filter_visiblity,\n",
    "    filter_area,\n",
    "    black_list_fn([\n",
    "            \"movable_object.trafficcone\",\n",
    "            \"movable_object.barrier\",\n",
    "        ])\n",
    "    )\n",
    "\n",
    "myfilter = filter_all(\n",
    "    lambda x: True)\n",
    "\n",
    "# taskset = DistTasks(\n",
    "#     captioner=myCap,\n",
    "#     basefilter=myfilter,\n",
    "#     cfg=tasks_cfg)\n",
    "\n",
    "# taskset = MovementTasks(\n",
    "#     captioner=myCap,\n",
    "#     basefilter=myfilter,\n",
    "#     cfg=tasks_cfg)\n",
    "\n",
    "taskset = MultiTaskSet(\n",
    "    subsets=[DistTasks, MovementTasks],\n",
    "    captioner=myCap,\n",
    "    basefilter=myfilter,\n",
    "    cfg=tasks_cfg)\n",
    "\n",
    "qas, stats = taskset.produce(\n",
    "    dataset=ds,\n",
    "    num_qas=5000,\n",
    "    # verbose=True\n",
    ")\n",
    "\n",
    "print(f\"total {len(qas)} qas\")\n",
    "print(f\"stats: {json.dumps(stats, indent=2)}\")\n",
    "\n",
    "# all_dumps = [qa.dump() for qa in qas]\n",
    "# content_stats = {\n",
    "#     \"objs\": set(),\n",
    "#     \"scenes\": set(),\n",
    "# }\n",
    "# for qa in all_dumps:\n",
    "#     content_stats[\"objs\"].update(qa[\"objs\"])\n",
    "#     content_stats[\"scenes\"].update(qa[\"scene\"])\n",
    "# print(f\"total objects: {len(content_stats['objs'])}\")\n",
    "# print(f\"total scenes: {len(content_stats['scenes'])}\")\n",
    "\n"
   ]
  },
  {
   "cell_type": "code",
   "execution_count": null,
   "id": "4e3af082",
   "metadata": {},
   "outputs": [],
   "source": [
    "\n",
    "num_test = int(len(qas) * TEST_SPLIT)\n",
    "qas_train = qas[:-num_test]\n",
    "qas_test = qas[-num_test:]\n",
    "all_frames = not taskset.cfg[\"roi_frame_only\"]\n",
    "\n",
    "with open(OUTPUT_QWEN.replace(\".\", \".test.\"), \"w\") as f:\n",
    "    json.dump(\n",
    "        [qa.qwen_format(all_frames=all_frames) for qa in qas_test], f, indent=2\n",
    "    )\n",
    "with open(OUTPUT_QWEN.replace(\".\", \".train.\"), \"w\") as f:\n",
    "    json.dump(\n",
    "        [qa.qwen_format(all_frames=all_frames) for qa in qas_train], f, indent=2\n",
    "    )\n",
    "with open(OUTPUT_JSON.replace(\".\", \".test.\"), \"w\") as f:\n",
    "    qas_dumps = [qa.dump() for qa in qas_test]\n",
    "    json.dump(qas_dumps, f, indent=2)\n",
    "with open(OUTPUT_JSON.replace(\".\", \".train.\"), \"w\") as f:\n",
    "    qas_dumps = [qa.dump() for qa in qas_train]\n",
    "    json.dump(qas_dumps, f, indent=2)\n"
   ]
  }
 ],
 "metadata": {
  "kernelspec": {
   "display_name": "vlm",
   "language": "python",
   "name": "python3"
  },
  "language_info": {
   "codemirror_mode": {
    "name": "ipython",
    "version": 3
   },
   "file_extension": ".py",
   "mimetype": "text/x-python",
   "name": "python",
   "nbconvert_exporter": "python",
   "pygments_lexer": "ipython3",
   "version": "3.11.12"
  }
 },
 "nbformat": 4,
 "nbformat_minor": 5
}
